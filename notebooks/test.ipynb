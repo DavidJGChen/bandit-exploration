{
 "cells": [
  {
   "cell_type": "code",
   "execution_count": null,
   "id": "36366141",
   "metadata": {},
   "outputs": [],
   "source": [
    "from numpy.random import SeedSequence\n",
    "\n",
    "ss = SeedSequence(12345)\n",
    "\n",
    "# Spawn off 10 child SeedSequences to pass to child processes.\n",
    "child_seeds = ss.spawn(10)"
   ]
  },
  {
   "cell_type": "code",
   "execution_count": 2,
   "id": "1588bc2e",
   "metadata": {},
   "outputs": [
    {
     "data": {
      "text/plain": [
       "[SeedSequence(\n",
       "     entropy=12345,\n",
       "     spawn_key=(0,),\n",
       " ),\n",
       " SeedSequence(\n",
       "     entropy=12345,\n",
       "     spawn_key=(1,),\n",
       " ),\n",
       " SeedSequence(\n",
       "     entropy=12345,\n",
       "     spawn_key=(2,),\n",
       " ),\n",
       " SeedSequence(\n",
       "     entropy=12345,\n",
       "     spawn_key=(3,),\n",
       " ),\n",
       " SeedSequence(\n",
       "     entropy=12345,\n",
       "     spawn_key=(4,),\n",
       " ),\n",
       " SeedSequence(\n",
       "     entropy=12345,\n",
       "     spawn_key=(5,),\n",
       " ),\n",
       " SeedSequence(\n",
       "     entropy=12345,\n",
       "     spawn_key=(6,),\n",
       " ),\n",
       " SeedSequence(\n",
       "     entropy=12345,\n",
       "     spawn_key=(7,),\n",
       " ),\n",
       " SeedSequence(\n",
       "     entropy=12345,\n",
       "     spawn_key=(8,),\n",
       " ),\n",
       " SeedSequence(\n",
       "     entropy=12345,\n",
       "     spawn_key=(9,),\n",
       " )]"
      ]
     },
     "execution_count": 2,
     "metadata": {},
     "output_type": "execute_result"
    }
   ],
   "source": [
    "child_seeds"
   ]
  },
  {
   "cell_type": "code",
   "execution_count": null,
   "id": "d80c377a",
   "metadata": {},
   "outputs": [],
   "source": []
  }
 ],
 "metadata": {
  "kernelspec": {
   "display_name": "bandit-exploration",
   "language": "python",
   "name": "python3"
  },
  "language_info": {
   "codemirror_mode": {
    "name": "ipython",
    "version": 3
   },
   "file_extension": ".py",
   "mimetype": "text/x-python",
   "name": "python",
   "nbconvert_exporter": "python",
   "pygments_lexer": "ipython3",
   "version": "3.13.5"
  }
 },
 "nbformat": 4,
 "nbformat_minor": 5
}
