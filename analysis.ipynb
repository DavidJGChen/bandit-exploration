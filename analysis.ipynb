{
 "cells": [
  {
   "cell_type": "code",
   "execution_count": 41,
   "id": "a80133df",
   "metadata": {},
   "outputs": [],
   "source": [
    "import numpy as np\n",
    "import os\n",
    "import matplotlib.pyplot as plt\n",
    "from common import Reward, Action\n",
    "from icecream import ic"
   ]
  },
  {
   "cell_type": "code",
   "execution_count": 42,
   "id": "a19406da",
   "metadata": {},
   "outputs": [],
   "source": [
    "output_dir = \"output/20250812-16-41-alignment\"\n",
    "\n",
    "# config\n",
    "T = 40000\n",
    "trials = [6]\n",
    "algs = [\"TS-ep\"]\n",
    "K = 32\n",
    "\n",
    "num_trials = len(trials)\n",
    "num_algs = len(algs)\n",
    "K = 32\n",
    "K_env = K // 2\n",
    "\n",
    "all_regrets = np.zeros((num_trials, num_algs, T), dtype=Reward)\n",
    "all_actions = np.zeros((num_trials, num_algs, T), dtype=Action)\n",
    "\n",
    "for i, trial_num in enumerate(trials):\n",
    "    seed = 30 + trial_num\n",
    "    for alg in algs:\n",
    "        filename = f\"{trial_num}_{alg}_seed{seed}.npy\"\n",
    "        with open(os.path.join(output_dir, f\"regrets_{filename}\"), \"rb\") as f:\n",
    "            all_regrets[i] = np.load(f)\n",
    "        with open(os.path.join(output_dir, f\"actions_{filename}\"), \"rb\") as f:\n",
    "            all_actions[i] = np.load(f)"
   ]
  },
  {
   "cell_type": "code",
   "execution_count": 43,
   "id": "e07931dc",
   "metadata": {},
   "outputs": [],
   "source": [
    "selected_alg = 0\n",
    "\n",
    "regrets_IDS = all_regrets[:, selected_alg, :]\n",
    "actions_IDS = all_actions[:, selected_alg, :]"
   ]
  },
  {
   "cell_type": "code",
   "execution_count": 44,
   "id": "f5584a0c",
   "metadata": {},
   "outputs": [],
   "source": [
    "env_actions = (actions_IDS < 16).astype(int)\n",
    "human_actions = 1 - env_actions\n",
    "\n",
    "cum_env_actions = np.cumsum(env_actions, axis=1)\n",
    "cum_human_actions = np.cumsum(human_actions, axis=1)"
   ]
  },
  {
   "cell_type": "code",
   "execution_count": 45,
   "id": "51e6c0bf",
   "metadata": {},
   "outputs": [
    {
     "name": "stderr",
     "output_type": "stream",
     "text": [
      "ic| actions_IDS: array([[0, 1, 2, ..., 5, 5, 5]], shape=(1, 40000), dtype=uint8)\n",
      "ic| human_actions: array([[0, 0, 0, ..., 0, 0, 0]], shape=(1, 40000))\n",
      "ic| cum_human_actions: array([[   0,    0,    0, ..., 2279, 2279, 2279]], shape=(1, 40000))\n"
     ]
    },
    {
     "data": {
      "text/plain": [
       "array([[   0,    0,    0, ..., 2279, 2279, 2279]], shape=(1, 40000))"
      ]
     },
     "execution_count": 45,
     "metadata": {},
     "output_type": "execute_result"
    }
   ],
   "source": [
    "ic(actions_IDS)\n",
    "ic(human_actions)\n",
    "ic(cum_human_actions)"
   ]
  },
  {
   "cell_type": "code",
   "execution_count": 52,
   "id": "4ec18e17",
   "metadata": {},
   "outputs": [
    {
     "data": {
      "image/png": "[encoded data removed]",
      "text/plain": [
       "<Figure size 500x500 with 1 Axes>"
      ]
     },
     "metadata": {},
     "output_type": "display_data"
    }
   ],
   "source": [
    "plt.figure(figsize=(5, 5))\n",
    "for i in range(len(all_actions)):\n",
    "    # plt.plot(np.arange(1, len(actions)+1), cum_env_actions[i], color='blue', alpha=0.3)\n",
    "    plt.plot(np.arange(T), cum_human_actions[i], color=\"red\", alpha=0.3)\n",
    "    ...\n",
    "\n",
    "# min_t = len(all_actions[0])\n",
    "\n",
    "# plt.plot(np.arange(10, min_t, 1), np.mean(cum_human_actions, axis=0)[10:])\n",
    "# plt.fill_between(np.arange(10, min_t, 1), np.mean(cum_human_actions, axis=0)[10:] + np.std(cum_human_actions, axis=0)[10:], np.mean(cum_human_actions, axis=0)[10:] - np.std(cum_human_actions, axis=0)[10:], alpha=0.3)\n",
    "\n",
    "sqrt_t = np.sqrt(np.arange(10, T, 1))\n",
    "sqrt_t_log_t = np.sqrt(np.arange(10, T, 1)) * np.log(np.arange(10, T, 1))\n",
    "log_t = np.log(np.arange(10, T, 1)) * np.log(np.arange(10, T, 1))\n",
    "\n",
    "plt.plot(np.arange(10, T, 1), np.arange(10, T, 1), color=\"black\", linestyle=\"--\")\n",
    "plt.plot(np.arange(10, T, 1), 30 * sqrt_t_log_t, color=\"black\", linestyle=\"--\")\n",
    "plt.plot(np.arange(10, T, 1), log_t**2, color=\"black\", linestyle=\"--\")\n",
    "plt.plot(np.arange(10, T, 1), 30 * sqrt_t, color=\"black\", linestyle=\"--\")\n",
    "\n",
    "plt.xscale(\"log\")\n",
    "plt.yscale(\"log\")\n",
    "plt.axis(\"equal\")\n",
    "plt.show()"
   ]
  },
  {
   "cell_type": "code",
   "execution_count": 49,
   "id": "d4e43d4c",
   "metadata": {},
   "outputs": [],
   "source": [
    "actions = actions_IDS[0]"
   ]
  },
  {
   "cell_type": "code",
   "execution_count": 50,
   "id": "3e0b5bd5",
   "metadata": {},
   "outputs": [
    {
     "name": "stderr",
     "output_type": "stream",
     "text": [
      "ic| f\"{i}: {counts[i]}\\t\\t {i}h: {counts[i + 16]}\": '0: 5\t\t 0h: 7'\n",
      "ic| f\"{i}: {counts[i]}\\t\\t {i}h: {counts[i + 16]}\": '1: 6\t\t 1h: 3'\n",
      "ic| f\"{i}: {counts[i]}\\t\\t {i}h: {counts[i + 16]}\": '2: 14\t\t 2h: 2'\n",
      "ic| f\"{i}: {counts[i]}\\t\\t {i}h: {counts[i + 16]}\": '3: 12\t\t 3h: 11'\n",
      "ic| f\"{i}: {counts[i]}\\t\\t {i}h: {counts[i + 16]}\": '4: 6\t\t 4h: 3'\n",
      "ic| f\"{i}: {counts[i]}\\t\\t {i}h: {counts[i + 16]}\": '5: 35566\t\t 5h: 1763'\n",
      "ic| f\"{i}: {counts[i]}\\t\\t {i}h: {counts[i + 16]}\": '6: 6\t\t 6h: 6'\n",
      "ic| f\"{i}: {counts[i]}\\t\\t {i}h: {counts[i + 16]}\": '7: 185\t\t 7h: 43'\n",
      "ic| f\"{i}: {counts[i]}\\t\\t {i}h: {counts[i + 16]}\": '8: 5\t\t 8h: 5'\n",
      "ic| f\"{i}: {counts[i]}\\t\\t {i}h: {counts[i + 16]}\": '9: 10\t\t 9h: 3'\n",
      "ic| f\"{i}: {counts[i]}\\t\\t {i}h: {counts[i + 16]}\": '10: 31\t\t 10h: 14'\n",
      "ic| f\"{i}: {counts[i]}\\t\\t {i}h: {counts[i + 16]}\": '11: 7\t\t 11h: 4'\n",
      "ic| f\"{i}: {counts[i]}\\t\\t {i}h: {counts[i + 16]}\": '12: 12\t\t 12h: 3'\n",
      "ic| f\"{i}: {counts[i]}\\t\\t {i}h: {counts[i + 16]}\": '13: 16\t\t 13h: 6'\n",
      "ic| f\"{i}: {counts[i]}\\t\\t {i}h: {counts[i + 16]}\": '14: 1837\t\t 14h: 402'\n",
      "ic| f\"{i}: {counts[i]}\\t\\t {i}h: {counts[i + 16]}\": '15: 3\t\t 15h: 4'\n",
      "ic| n_h: np.int64(2279)\n",
      "ic| f\"proportion: {n_h / (n_h + n_env)}\": 'proportion: 0.056975'\n"
     ]
    },
    {
     "data": {
      "text/plain": [
       "'proportion: 0.056975'"
      ]
     },
     "execution_count": 50,
     "metadata": {},
     "output_type": "execute_result"
    }
   ],
   "source": [
    "unique, counts = np.unique(actions, return_counts=True)\n",
    "\n",
    "for i in range(16):\n",
    "    ic(f\"{i}: {counts[i]}\\t\\t {i}h: {counts[i + 16]}\")\n",
    "\n",
    "n_h = sum(counts[16:])\n",
    "n_env = sum(counts[:16])\n",
    "ic(n_h)\n",
    "ic(f\"proportion: {n_h / (n_h + n_env)}\")"
   ]
  },
  {
   "cell_type": "code",
   "execution_count": 51,
   "id": "cf2f0155",
   "metadata": {},
   "outputs": [
    {
     "data": {
      "image/png": "[encoded data removed]",
      "text/plain": [
       "<Figure size 640x480 with 1 Axes>"
      ]
     },
     "metadata": {},
     "output_type": "display_data"
    }
   ],
   "source": [
    "plt.bar(unique, counts)\n",
    "plt.show()"
   ]
  },
  {
   "cell_type": "code",
   "execution_count": null,
   "id": "7436a6a9",
   "metadata": {},
   "outputs": [],
   "source": []
  }
 ],
 "metadata": {
  "kernelspec": {
   "display_name": "bandit-exploration",
   "language": "python",
   "name": "python3"
  },
  "language_info": {
   "codemirror_mode": {
    "name": "ipython",
    "version": 3
   },
   "file_extension": ".py",
   "mimetype": "text/x-python",
   "name": "python",
   "nbconvert_exporter": "python",
   "pygments_lexer": "ipython3",
   "version": "3.13.5"
  }
 },
 "nbformat": 4,
 "nbformat_minor": 5
}
