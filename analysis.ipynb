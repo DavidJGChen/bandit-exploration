{
 "cells": [
  {
   "cell_type": "code",
   "execution_count": 66,
   "id": "a80133df",
   "metadata": {},
   "outputs": [],
   "source": [
    "import numpy as np\n",
    "import os\n",
    "import matplotlib.pyplot as plt\n",
    "from common import Reward, Action\n",
    "from icecream import ic"
   ]
  },
  {
   "cell_type": "code",
   "execution_count": 67,
   "id": "a19406da",
   "metadata": {},
   "outputs": [],
   "source": [
    "output_dir = \"output/20250812-13-05-alignment\"\n",
    "\n",
    "T = 40000\n",
    "trials = [6]\n",
    "num_trials = len(trials)\n",
    "K = 32\n",
    "K_env = K // 2\n",
    "\n",
    "all_regrets = np.zeros((num_trials, 1, T), dtype=Reward)\n",
    "all_actions = np.zeros((num_trials, 1, T), dtype=Action)\n",
    "\n",
    "for i, trial_num in enumerate(trials):\n",
    "    seed = 30 + trial_num\n",
    "    filename = f\"{trial_num}_IDS_seed{seed}.npy\"\n",
    "    with open(os.path.join(output_dir, f\"regrets_{filename}\"), 'rb') as f:\n",
    "        all_regrets[i] = np.load(f)\n",
    "    with open(os.path.join(output_dir, f\"actions_{filename}\"), 'rb') as f:\n",
    "        all_actions[i] = np.load(f)\n",
    "\n",
    "regrets_IDS = all_regrets[:,0,:]\n",
    "actions_IDS = all_actions[:,0,:]"
   ]
  },
  {
   "cell_type": "code",
   "execution_count": 68,
   "id": "f5584a0c",
   "metadata": {},
   "outputs": [],
   "source": [
    "env_actions = (actions_IDS < 16).astype(int)\n",
    "human_actions = 1 - env_actions\n",
    "\n",
    "cum_env_actions = np.cumsum(env_actions, axis=1)\n",
    "cum_human_actions = np.cumsum(human_actions, axis=1)"
   ]
  },
  {
   "cell_type": "code",
   "execution_count": 69,
   "id": "51e6c0bf",
   "metadata": {},
   "outputs": [
    {
     "name": "stderr",
     "output_type": "stream",
     "text": [
      "ic| actions_IDS: array([[ 5,  8,  4, ..., 14,  5,  5]], shape=(1, 40000), dtype=uint8)\n",
      "ic| human_actions: array([[0, 0, 0, ..., 0, 0, 0]], shape=(1, 40000))\n",
      "ic| cum_human_actions: array([[  0,   0,   0, ..., 392, 392, 392]], shape=(1, 40000))\n"
     ]
    },
    {
     "data": {
      "text/plain": [
       "array([[  0,   0,   0, ..., 392, 392, 392]], shape=(1, 40000))"
      ]
     },
     "execution_count": 69,
     "metadata": {},
     "output_type": "execute_result"
    }
   ],
   "source": [
    "ic(actions_IDS)\n",
    "ic(human_actions)\n",
    "ic(cum_human_actions)"
   ]
  },
  {
   "cell_type": "code",
   "execution_count": 70,
   "id": "4ec18e17",
   "metadata": {},
   "outputs": [
    {
     "data": {
      "image/png": "[encoded data removed]",
      "text/plain": [
       "<Figure size 500x500 with 1 Axes>"
      ]
     },
     "metadata": {},
     "output_type": "display_data"
    }
   ],
   "source": [
    "plt.figure(figsize=(5,5))\n",
    "for i in range(len(all_actions)):\n",
    "    # plt.plot(np.arange(1, len(actions)+1), cum_env_actions[i], color='blue', alpha=0.3)\n",
    "    plt.plot(np.arange(T), cum_human_actions[i], color='red', alpha=0.3)\n",
    "    ...\n",
    "\n",
    "# min_t = len(all_actions[0])\n",
    "\n",
    "# plt.plot(np.arange(10, min_t, 1), np.mean(cum_human_actions, axis=0)[10:])\n",
    "# plt.fill_between(np.arange(10, min_t, 1), np.mean(cum_human_actions, axis=0)[10:] + np.std(cum_human_actions, axis=0)[10:], np.mean(cum_human_actions, axis=0)[10:] - np.std(cum_human_actions, axis=0)[10:], alpha=0.3)\n",
    "\n",
    "sqrt_t_log_t = np.sqrt(np.arange(10, T, 1)) * np.log(np.arange(10, T, 1))\n",
    "log_t = np.log(np.arange(10, T, 1)) * np.log(np.arange(10, T, 1))\n",
    "\n",
    "# plt.plot(np.arange(10, T, 1), np.arange(10, T, 1), color='black', linestyle='--')\n",
    "# plt.plot(np.arange(10, T, 1), 30*sqrt_t_log_t, color='black', linestyle='--')\n",
    "# plt.plot(np.arange(10, T, 1), log_t**2, color='black', linestyle='--')\n",
    "\n",
    "# plt.xscale('log')\n",
    "# plt.yscale('log')\n",
    "# plt.axis('equal')\n",
    "plt.show()"
   ]
  },
  {
   "cell_type": "code",
   "execution_count": 71,
   "id": "d4e43d4c",
   "metadata": {},
   "outputs": [],
   "source": [
    "actions = actions_IDS[0]"
   ]
  },
  {
   "cell_type": "code",
   "execution_count": 79,
   "id": "3e0b5bd5",
   "metadata": {},
   "outputs": [
    {
     "name": "stderr",
     "output_type": "stream",
     "text": [
      "ic| f\"{i}: {counts[i]}\\t\\t {i}h: {counts[i+16]}\": '0: 446\t\t 0h: 25'\n",
      "ic| f\"{i}: {counts[i]}\\t\\t {i}h: {counts[i+16]}\": '1: 139\t\t 1h: 23'\n",
      "ic| f\"{i}: {counts[i]}\\t\\t {i}h: {counts[i+16]}\": '2: 304\t\t 2h: 23'\n",
      "ic| f\"{i}: {counts[i]}\\t\\t {i}h: {counts[i+16]}\": '3: 458\t\t 3h: 23'\n",
      "ic| f\"{i}: {counts[i]}\\t\\t {i}h: {counts[i+16]}\": '4: 194\t\t 4h: 15'\n",
      "ic| f\"{i}: {counts[i]}\\t\\t {i}h: {counts[i+16]}\": '5: 18072\t\t 5h: 27'\n",
      "ic| f\"{i}: {counts[i]}\\t\\t {i}h: {counts[i+16]}\": '6: 260\t\t 6h: 29'\n",
      "ic| f\"{i}: {counts[i]}\\t\\t {i}h: {counts[i+16]}\": '7: 1144\t\t 7h: 28'\n",
      "ic| f\"{i}: {counts[i]}\\t\\t {i}h: {counts[i+16]}\": '8: 589\t\t 8h: 27'\n",
      "ic| f\"{i}: {counts[i]}\\t\\t {i}h: {counts[i+16]}\": '9: 331\t\t 9h: 24'\n",
      "ic| f\"{i}: {counts[i]}\\t\\t {i}h: {counts[i+16]}\": '10: 314\t\t 10h: 20'\n",
      "ic| f\"{i}: {counts[i]}\\t\\t {i}h: {counts[i+16]}\": '11: 351\t\t 11h: 22'\n",
      "ic| f\"{i}: {counts[i]}\\t\\t {i}h: {counts[i+16]}\": '12: 268\t\t 12h: 28'\n",
      "ic| f\"{i}: {counts[i]}\\t\\t {i}h: {counts[i+16]}\": '13: 916\t\t 13h: 25'\n",
      "ic| f\"{i}: {counts[i]}\\t\\t {i}h: {counts[i+16]}\": '14: 15443\t\t 14h: 29'\n",
      "ic| f\"{i}: {counts[i]}\\t\\t {i}h: {counts[i+16]}\": '15: 379\t\t 15h: 24'\n",
      "ic| n_h: np.int64(392)\n",
      "ic| f\"proportion: {n_h / (n_h + n_env)}\": 'proportion: 0.0098'\n"
     ]
    },
    {
     "data": {
      "text/plain": [
       "'proportion: 0.0098'"
      ]
     },
     "execution_count": 79,
     "metadata": {},
     "output_type": "execute_result"
    }
   ],
   "source": [
    "unique, counts = np.unique(actions, return_counts=True)\n",
    "\n",
    "for i in range(16):\n",
    "    ic(f\"{i}: {counts[i]}\\t\\t {i}h: {counts[i+16]}\")\n",
    "\n",
    "n_h = sum(counts[16:])\n",
    "n_env = sum(counts[:16])\n",
    "ic(n_h)\n",
    "ic(f\"proportion: {n_h / (n_h + n_env)}\")"
   ]
  },
  {
   "cell_type": "code",
   "execution_count": 73,
   "id": "cf2f0155",
   "metadata": {},
   "outputs": [
    {
     "data": {
      "image/png": "[encoded data removed]",
      "text/plain": [
       "<Figure size 640x480 with 1 Axes>"
      ]
     },
     "metadata": {},
     "output_type": "display_data"
    }
   ],
   "source": [
    "plt.bar(unique, counts)\n",
    "plt.show()"
   ]
  },
  {
   "cell_type": "code",
   "execution_count": null,
   "id": "7436a6a9",
   "metadata": {},
   "outputs": [],
   "source": []
  }
 ],
 "metadata": {
  "kernelspec": {
   "display_name": "bandit-exploration",
   "language": "python",
   "name": "python3"
  },
  "language_info": {
   "codemirror_mode": {
    "name": "ipython",
    "version": 3
   },
   "file_extension": ".py",
   "mimetype": "text/x-python",
   "name": "python",
   "nbconvert_exporter": "python",
   "pygments_lexer": "ipython3",
   "version": "3.13.5"
  }
 },
 "nbformat": 4,
 "nbformat_minor": 5
}
